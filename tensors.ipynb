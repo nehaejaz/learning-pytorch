{
 "cells": [
  {
   "cell_type": "code",
   "execution_count": 65,
   "id": "09b06a02",
   "metadata": {},
   "outputs": [],
   "source": [
    "import torch\n",
    "import numpy as np\n",
    "import matplotlib.pyplot as plt"
   ]
  },
  {
   "cell_type": "code",
   "execution_count": 24,
   "id": "4b13c7dd",
   "metadata": {},
   "outputs": [
    {
     "data": {
      "text/plain": [
       "torch.int64"
      ]
     },
     "execution_count": 24,
     "metadata": {},
     "output_type": "execute_result"
    }
   ],
   "source": [
    "v = torch.tensor([1,2,3,4])\n",
    "v\n",
    "v.dtype"
   ]
  },
  {
   "cell_type": "code",
   "execution_count": 9,
   "id": "68dbf7ae",
   "metadata": {},
   "outputs": [
    {
     "data": {
      "text/plain": [
       "torch.Size([3])"
      ]
     },
     "execution_count": 9,
     "metadata": {},
     "output_type": "execute_result"
    }
   ],
   "source": [
    "f = torch.FloatTensor([1,2,3])\n",
    "f.dtype\n",
    "f.size()"
   ]
  },
  {
   "cell_type": "code",
   "execution_count": 29,
   "id": "9b748ba2",
   "metadata": {},
   "outputs": [
    {
     "data": {
      "text/plain": [
       "tensor([[1, 2],\n",
       "        [3, 4]])"
      ]
     },
     "execution_count": 29,
     "metadata": {},
     "output_type": "execute_result"
    }
   ],
   "source": [
    "# Reshape a tensor\n",
    "v.view(2,-1)"
   ]
  },
  {
   "cell_type": "code",
   "execution_count": 45,
   "id": "818fad69",
   "metadata": {},
   "outputs": [
    {
     "name": "stdout",
     "output_type": "stream",
     "text": [
      "[1 2 3 4]\n",
      "tensor([1, 2, 3, 4])\n"
     ]
    }
   ],
   "source": [
    "# switch from numpy to tensors and vice versa\n",
    "a = np.array([1,2,3,4])\n",
    "b = torch.from_numpy(a)\n",
    "print(a)\n",
    "print(b)"
   ]
  },
  {
   "cell_type": "code",
   "execution_count": 48,
   "id": "2804d947",
   "metadata": {},
   "outputs": [
    {
     "name": "stdout",
     "output_type": "stream",
     "text": [
      "tensor([1, 2, 3, 4])\n",
      "[1 2 3 4]\n"
     ]
    }
   ],
   "source": [
    "print(b)\n",
    "c = b.numpy()\n",
    "print(c)"
   ]
  },
  {
   "cell_type": "code",
   "execution_count": 53,
   "id": "e06e92d7",
   "metadata": {},
   "outputs": [
    {
     "name": "stdout",
     "output_type": "stream",
     "text": [
      "tensor([2, 4, 6])\n",
      "tensor([1, 4, 9])\n",
      "tensor(14)\n"
     ]
    }
   ],
   "source": [
    "# vector operations\n",
    "t_one = torch.tensor([1,2,3])\n",
    "t_two = torch.tensor([1,2,3])\n",
    "print(t_one + t_two)\n",
    "print(t_one * t_two)\n",
    "print(torch.dot(t_one,t_two))"
   ]
  },
  {
   "cell_type": "code",
   "execution_count": 69,
   "id": "77101eda",
   "metadata": {},
   "outputs": [],
   "source": [
    "#creates a tensor of 100 elements ranging from 0-10\n",
    "x = torch.linspace(0,10,100)\n",
    "# print(x)\n",
    "y = torch.sin(x)\n",
    "# print(y)"
   ]
  },
  {
   "cell_type": "code",
   "execution_count": 70,
   "id": "5d096d3a",
   "metadata": {},
   "outputs": [
    {
     "data": {
      "text/plain": [
       "[<matplotlib.lines.Line2D at 0x7fbf94575b80>]"
      ]
     },
     "execution_count": 70,
     "metadata": {},
     "output_type": "execute_result"
    },
    {
     "data": {
      "image/png": "[encoded data removed]",
      "text/plain": [
       "<Figure size 432x288 with 1 Axes>"
      ]
     },
     "metadata": {
      "needs_background": "light"
     },
     "output_type": "display_data"
    }
   ],
   "source": [
    "plt.plot(x,y)"
   ]
  },
  {
   "cell_type": "code",
   "execution_count": 78,
   "id": "374013b3",
   "metadata": {},
   "outputs": [
    {
     "name": "stdout",
     "output_type": "stream",
     "text": [
      "tensor([0, 1, 2, 3, 4, 5, 6, 7, 8])\n",
      "tensor([0, 2, 4, 6, 8])\n"
     ]
    }
   ],
   "source": [
    "# creating a tensor with arrange and step size\n",
    "a = torch.arange(0,9)\n",
    "print(a)\n",
    "# with step size\n",
    "b = torch.arange(0,9,2)\n",
    "print(b)"
   ]
  },
  {
   "cell_type": "code",
   "execution_count": 80,
   "id": "39ffc9a4",
   "metadata": {},
   "outputs": [
    {
     "name": "stdout",
     "output_type": "stream",
     "text": [
      "tensor([[0, 1, 2],\n",
      "        [3, 4, 5],\n",
      "        [6, 7, 8]])\n"
     ]
    }
   ],
   "source": [
    "# converting 1D tensor to 2D\n",
    "two_dim = a.view(3,3)\n",
    "print(two_dim)"
   ]
  },
  {
   "cell_type": "code",
   "execution_count": 86,
   "id": "e65f1247",
   "metadata": {},
   "outputs": [
    {
     "data": {
      "text/plain": [
       "tensor(8)"
      ]
     },
     "execution_count": 86,
     "metadata": {},
     "output_type": "execute_result"
    }
   ],
   "source": [
    "# Checking the dimension of tensor\n",
    "two_dim.dim()\n",
    "\n",
    "# accesing 2D tensor\n",
    "two_dim[2,2]"
   ]
  },
  {
   "cell_type": "code",
   "execution_count": 92,
   "id": "8f77d73e",
   "metadata": {},
   "outputs": [
    {
     "name": "stdout",
     "output_type": "stream",
     "text": [
      "tensor([[[ 0,  1,  2],\n",
      "         [ 3,  4,  5]],\n",
      "\n",
      "        [[ 6,  7,  8],\n",
      "         [ 9, 10, 11]],\n",
      "\n",
      "        [[12, 13, 14],\n",
      "         [15, 16, 17]]])\n"
     ]
    }
   ],
   "source": [
    "x = torch.arange(18).view(3,2,3) #2x3x3=18 so it will work\n",
    "print(x)"
   ]
  },
  {
   "cell_type": "code",
   "execution_count": 114,
   "id": "ff6dcda2",
   "metadata": {},
   "outputs": [
    {
     "data": {
      "text/plain": [
       "tensor([[ 6,  7,  8],\n",
       "        [ 9, 10, 11]])"
      ]
     },
     "execution_count": 114,
     "metadata": {},
     "output_type": "execute_result"
    }
   ],
   "source": [
    "x[1,0:2,0:]"
   ]
  },
  {
   "cell_type": "code",
   "execution_count": 128,
   "id": "ffe02579",
   "metadata": {},
   "outputs": [
    {
     "name": "stdout",
     "output_type": "stream",
     "text": [
      "tensor([[0, 3, 5],\n",
      "        [5, 5, 2]])\n",
      "torch.Size([2, 3])\n",
      "tensor([[ 3,  4],\n",
      "        [ 3, -2],\n",
      "        [ 4, -2]])\n",
      "torch.Size([3, 2])\n",
      "tensor([[ 29, -16],\n",
      "        [ 38,   6]])\n",
      "tensor([[ 29, -16],\n",
      "        [ 38,   6]])\n"
     ]
    }
   ],
   "source": [
    "#matrix multiplication\n",
    "mat_a = torch.tensor([[0,3,5],[5,5,2]])\n",
    "print(mat_a)\n",
    "print(mat_a.size())\n",
    "\n",
    "# or you can write like this, both will have same result\n",
    "\n",
    "mat_b = torch.tensor([3,4,3,-2,4,-2]).view(3,2)\n",
    "print(mat_b)\n",
    "print(mat_b.size())\n",
    "\n",
    "print(torch.matmul(mat_a,mat_b))\n",
    "# or you can write like this, both will have same result\n",
    "print(mat_a @ mat_b)"
   ]
  },
  {
   "cell_type": "code",
   "execution_count": 131,
   "id": "6185ae93",
   "metadata": {},
   "outputs": [
    {
     "data": {
      "text/plain": [
       "tensor(330.)"
      ]
     },
     "execution_count": 131,
     "metadata": {},
     "output_type": "execute_result"
    }
   ],
   "source": [
    "# Findind derivates\n",
    "x = torch.tensor(2.0, requires_grad=True)\n",
    "y=9*x**4 + 2*x**3 + 3*x**2 + 6*x + 1\n",
    "y.backward()\n",
    "x.grad"
   ]
  },
  {
   "cell_type": "code",
   "execution_count": 133,
   "id": "deebeb3f",
   "metadata": {},
   "outputs": [
    {
     "name": "stdout",
     "output_type": "stream",
     "text": [
      "tensor(2.)\n",
      "tensor(12.)\n"
     ]
    }
   ],
   "source": [
    "x = torch.tensor(1.0, requires_grad=True)\n",
    "z = torch.tensor(2.0, requires_grad=True)\n",
    "y = x**2 + z**3\n",
    "y.backward()\n",
    "print(x.grad)\n",
    "print(z.grad)"
   ]
  },
  {
   "cell_type": "code",
   "execution_count": null,
   "id": "9a39f926",
   "metadata": {},
   "outputs": [],
   "source": []
  }
 ],
 "metadata": {
  "kernelspec": {
   "display_name": "Python 3 (ipykernel)",
   "language": "python",
   "name": "python3"
  },
  "language_info": {
   "codemirror_mode": {
    "name": "ipython",
    "version": 3
   },
   "file_extension": ".py",
   "mimetype": "text/x-python",
   "name": "python",
   "nbconvert_exporter": "python",
   "pygments_lexer": "ipython3",
   "version": "3.9.7"
  }
 },
 "nbformat": 4,
 "nbformat_minor": 5
}
